{
  "nbformat": 4,
  "nbformat_minor": 0,
  "metadata": {
    "colab": {
      "provenance": [],
      "include_colab_link": true
    },
    "kernelspec": {
      "name": "python3",
      "display_name": "Python 3"
    },
    "language_info": {
      "name": "python"
    }
  },
  "cells": [
    {
      "cell_type": "markdown",
      "metadata": {
        "id": "view-in-github",
        "colab_type": "text"
      },
      "source": [
        "<a href=\"https://colab.research.google.com/github/DarthLilac/WoMakersCode-BootcampDataAnalytics/blob/main/WoMakersCode_BootcampDataAnalytics_Andressa_Rocha.ipynb\" target=\"_parent\"><img src=\"https://colab.research.google.com/assets/colab-badge.svg\" alt=\"Open In Colab\"/></a>"
      ]
    },
    {
      "cell_type": "markdown",
      "source": [
        "1 ) Para determinar se um candidato está qualificado para uma vaga de emprego, são aplicados dois critérios:\n",
        "\n",
        "a) O candidato deve ter uma presença igual ou superior a 60% em um treinamento obrigatório.\n",
        "\n",
        "b) O candidato deve ter uma média de desempenho igual ou superior a 7 em uma série de testes.\n",
        "\n",
        "Para auxiliar na avaliação dos candidatos, você deve criar uma função que recebe uma lista de dicionários contendo o nome do candidato, a média de desempenho e a quantidade de horas de ausência do treinamento. Com esses dados, a função deve calcular se o candidato está qualificado ou não. A presença do candidato é calculada considerando que o treinamento teve um total de 60 horas e utilizando a fórmula:\n",
        "\n",
        "(Total horas - número de faltas)/Total horas * 100;\n"
      ],
      "metadata": {
        "id": "3UpM724I5C19"
      }
    },
    {
      "cell_type": "code",
      "source": [
        "def avaliar_candidatos(candidatos):\n",
        "    for candidato in candidatos:\n",
        "        presenca = ((60 - candidato['horas_ausentes']) / 60) * 100\n",
        "        if presenca >= 60 and candidato['media_desempenho'] >= 7:\n",
        "            print(f\"{candidato['nome']} está qualificado(a) para a vaga.\")\n",
        "        else:\n",
        "            print(f\"{candidato['nome']} não está qualificado(a) para a vaga.\")\n",
        "\n",
        "lista_candidatos = [\n",
        "    {'nome': 'Sofia', 'media_desempenho': 8, 'horas_ausentes': 10},\n",
        "    {'nome': 'Luisa', 'media_desempenho': 6, 'horas_ausentes': 5},\n",
        "    {'nome': 'Marina', 'media_desempenho': 7, 'horas_ausentes': 20},\n",
        "    {'nome': 'Heitor', 'media_desempenho': 10, 'horas_ausentes': 30}\n",
        "]\n",
        "\n",
        "avaliar_candidatos(lista_candidatos)"
      ],
      "metadata": {
        "id": "Xv1MnjPQvkSt",
        "colab": {
          "base_uri": "https://localhost:8080/"
        },
        "outputId": "e98051b7-e977-451f-9889-ff2a26fa1741"
      },
      "execution_count": null,
      "outputs": [
        {
          "output_type": "stream",
          "name": "stdout",
          "text": [
            "Sofia está qualificado(a) para a vaga.\n",
            "Luisa não está qualificado(a) para a vaga.\n",
            "Marina está qualificado(a) para a vaga.\n",
            "Heitor não está qualificado(a) para a vaga.\n"
          ]
        }
      ]
    },
    {
      "cell_type": "markdown",
      "source": [
        "2) Crie uma função que recebe uma palavra (string), separa todos os caracteres em uma lista, retorna esta lista e quantidade de letras."
      ],
      "metadata": {
        "id": "fKKdyWo55e8w"
      }
    },
    {
      "cell_type": "code",
      "source": [
        "def separar_caracteres(palavra):\n",
        "    lista_caracteres = list(palavra)\n",
        "    quantidade_letras = len(lista_caracteres)\n",
        "    return lista_caracteres, quantidade_letras\n",
        "\n",
        "palavra_inserida = input(\"Digite uma palavra: \")\n",
        "\n",
        "caracteres, qtd_letras = separar_caracteres(palavra_inserida)\n",
        "print(\"Lista de caracteres:\", caracteres)\n",
        "print(\"Quantidade de letras:\", qtd_letras)"
      ],
      "metadata": {
        "id": "Qq7QoqubvjbG",
        "colab": {
          "base_uri": "https://localhost:8080/"
        },
        "outputId": "339a531a-50e9-4dc8-be75-a82af08a7bae"
      },
      "execution_count": null,
      "outputs": [
        {
          "output_type": "stream",
          "name": "stdout",
          "text": [
            "Digite uma palavra: Abacaxi\n",
            "Lista de caracteres: ['A', 'b', 'a', 'c', 'a', 'x', 'i']\n",
            "Quantidade de letras: 7\n"
          ]
        }
      ]
    },
    {
      "cell_type": "markdown",
      "source": [
        "3) Crie um programa que leia quanto dinheiro uma pessoa tem na carteira, e calcule quanto poderia comprar de cada moeda estrangeira. Considere a tabela de conversão abaixo:\n",
        "\n",
        "Valor convertido em real:\n",
        "*   Dólar Americano: 4,91\n",
        "*   Peso Argentino: 0,02\n",
        "*   Dólar Australiano: 3,18\n",
        "*   Dólar Canadense: 3,64\n",
        "*   Franco Suiço: 0,42\n",
        "*   Euro:  5,36\n",
        "*   Libra esterlina: 6,21\n",
        "\n",
        "\n",
        "\n",
        "\n",
        "\n",
        "\n",
        "\n"
      ],
      "metadata": {
        "id": "EEXxWdjH5sju"
      }
    },
    {
      "cell_type": "code",
      "source": [
        "def calcular_conversao(valor_em_real):\n",
        "    conversoes = {\n",
        "        'Dólar Americano': valor_em_real / 4.91,\n",
        "        'Peso Argentino': valor_em_real / 0.02,\n",
        "        'Dólar Australiano': valor_em_real / 3.18,\n",
        "        'Dólar Canadense': valor_em_real / 3.64,\n",
        "        'Franco Suiço': valor_em_real / 0.42,\n",
        "        'Euro': valor_em_real / 5.36,\n",
        "        'Libra esterlina': valor_em_real / 6.21\n",
        "    }\n",
        "    return conversoes\n",
        "\n",
        "valor_em_reais = float(input(\"Digite o valor em reais a ser convertido: \"))\n",
        "\n",
        "resultados = calcular_conversao(valor_em_reais)\n",
        "print(\"\\nValor convertido para outras moedas:\")\n",
        "for moeda, valor in resultados.items():\n",
        "    print(f\"{moeda}: {valor:.2f}\")"
      ],
      "metadata": {
        "id": "laQCyMdR2Mo6",
        "colab": {
          "base_uri": "https://localhost:8080/"
        },
        "outputId": "a736dead-d4a5-47bd-caa1-0e2758afffd3"
      },
      "execution_count": null,
      "outputs": [
        {
          "output_type": "stream",
          "name": "stdout",
          "text": [
            "Digite o valor em reais a ser convertido: 560\n",
            "\n",
            "Valor convertido para outras moedas:\n",
            "Dólar Americano: 114.05\n",
            "Peso Argentino: 28000.00\n",
            "Dólar Australiano: 176.10\n",
            "Dólar Canadense: 153.85\n",
            "Franco Suiço: 1333.33\n",
            "Euro: 104.48\n",
            "Libra esterlina: 90.18\n"
          ]
        }
      ]
    },
    {
      "cell_type": "markdown",
      "source": [
        "\n",
        "4) O chefe decidiu premiar os melhores funcionários de sua empresa com um brinde. Para isso ela vai entregar um brinde para todos os funcionários que tiverem uma performance superior a média da equipe.\n",
        "\n",
        "Elabore uma função que recebe uma lista de nome em formato de dict (dicionário) com nome do funcionário e a média do funcionário (Valor de 0 a 10). Esta função deve calcular a média da equipe, identificar quais funcionários tem média igual ou superior a média da equipe e retornar uma lista com o nome dos funcionários que possuem média igual ou superior a média da equipe. A ordem dos nomes da lista de retorno deve ser em ordem decrescente."
      ],
      "metadata": {
        "id": "Tj2Ds76-6FXs"
      }
    },
    {
      "cell_type": "code",
      "source": [
        "def premiar_melhores(funcionarios):\n",
        "    medias = [funcionario['media'] for funcionario in funcionarios]\n",
        "    media_equipe = sum(medias) / len(medias)\n",
        "\n",
        "    melhores = [funcionario['nome'] for funcionario in funcionarios if funcionario['media'] >= media_equipe]\n",
        "\n",
        "    melhores = sorted(melhores, key=lambda x: funcionarios[[f['nome'] for f in funcionarios].index(x)]['media'], reverse=True)\n",
        "\n",
        "    return melhores\n",
        "\n",
        "\n",
        "funcionarios = [\n",
        "    {'nome': 'Isabela', 'media': 8},\n",
        "    {'nome': 'Mario', 'media': 6},\n",
        "    {'nome': 'Patricia', 'media': 7},\n",
        "    {'nome': 'Felipe', 'media': 9},\n",
        "    {'nome': 'Claudia', 'media': 5}\n",
        "]\n",
        "\n",
        "funcionarios_premiados = premiar_melhores(funcionarios)\n",
        "print(\"Funcionários premiados:\", funcionarios_premiados)"
      ],
      "metadata": {
        "colab": {
          "base_uri": "https://localhost:8080/"
        },
        "outputId": "e61fcf66-6d51-4dd7-ecf7-cbb97cafe3ea",
        "id": "42qGD1wc2lU-"
      },
      "execution_count": null,
      "outputs": [
        {
          "output_type": "stream",
          "name": "stdout",
          "text": [
            "Funcionários premiados: ['Felipe', 'Isabela', 'Patricia']\n"
          ]
        }
      ]
    },
    {
      "cell_type": "markdown",
      "source": [
        "5) Na variável países_ano, temos uma lista de listas, em que cada elemento é uma lista de dois elementos, em que o primeiro é o nome de um país e o segundo é o ano em que a nação foi fundada."
      ],
      "metadata": {
        "id": "pVSP5n1T_ZWQ"
      }
    },
    {
      "cell_type": "code",
      "source": [
        "lista_paises = [[\"Brasil\", \"1500\"],[\"Mexico\",\"1519\"], [\"Inglaterra\", \"927\"], [\"Espanha\",\"1978\"], [\"Escocia\", \"843\"]]"
      ],
      "metadata": {
        "id": "zRywrNff01he"
      },
      "execution_count": null,
      "outputs": []
    },
    {
      "cell_type": "markdown",
      "source": [
        "Você deseja criar uma nova lista de listas a partir do exemplo (lista_paises), em que cada elemento é uma lista de dois elementos, sendo o primeiro o nome do país (como é na lista original) e o segundo é o número de anos desde a fundação do país (considere que o ano atual é 2023)."
      ],
      "metadata": {
        "id": "OpU-UWXC01Ca"
      }
    },
    {
      "cell_type": "code",
      "source": [
        "lista_paises = [\n",
        "    [\"Brasil\", \"1500\"],\n",
        "    [\"Mexico\", \"1519\"],\n",
        "    [\"Inglaterra\", \"927\"],\n",
        "    [\"Espanha\", \"1978\"],\n",
        "    [\"Escocia\", \"843\"]\n",
        "]\n",
        "\n",
        "ano_atual = 2023\n",
        "\n",
        "nova_lista_paises = []\n",
        "for pais, ano_fundacao in lista_paises:\n",
        "    anos_desde_fundacao = ano_atual - int(ano_fundacao)\n",
        "    nova_lista_paises.append([pais, anos_desde_fundacao])\n",
        "\n",
        "print(\"Número de anos desde a fundação dos países da lista:\", nova_lista_paises)"
      ],
      "metadata": {
        "colab": {
          "base_uri": "https://localhost:8080/"
        },
        "outputId": "92bd95b2-e338-4c8e-9260-76ac8c7c709a",
        "id": "v7c5dvms28dv"
      },
      "execution_count": null,
      "outputs": [
        {
          "output_type": "stream",
          "name": "stdout",
          "text": [
            "Número de anos desde a fundação dos países da lista: [['Brasil', 523], ['Mexico', 504], ['Inglaterra', 1096], ['Espanha', 45], ['Escocia', 1180]]\n"
          ]
        }
      ]
    },
    {
      "cell_type": "markdown",
      "source": [
        "6) Um jogador de um jogo de vídeo game deseja subir de nível em seu personagem ao atingir 50 inimigos derrotados. Enquanto esse número não é alcançado, uma mensagem indicando quantos inimigos ainda faltam é exibida na tela.\n"
      ],
      "metadata": {
        "id": "_qb748YiCzh-"
      }
    },
    {
      "cell_type": "code",
      "source": [
        "inimigos_derrotados = 0\n",
        "nivel = 0\n",
        "\n",
        "while inimigos_derrotados < 50:\n",
        "    print(f\"Faltam {50 - inimigos_derrotados} inimigos para você mudar de nível!\")\n",
        "\n",
        "    inimigos_derrotados += 10\n",
        "\n",
        "    if inimigos_derrotados >= 50:\n",
        "        print(\"\\nVocê atingiu o próximo nível!\")\n",
        "        nivel = 1"
      ],
      "metadata": {
        "colab": {
          "base_uri": "https://localhost:8080/"
        },
        "outputId": "daca3a09-8c1c-4838-bc6b-f46b8846a510",
        "id": "eMU7bU6H3FqF"
      },
      "execution_count": null,
      "outputs": [
        {
          "output_type": "stream",
          "name": "stdout",
          "text": [
            "Faltam 50 inimigos para você mudar de nível!\n",
            "Faltam 40 inimigos para você mudar de nível!\n",
            "Faltam 30 inimigos para você mudar de nível!\n",
            "Faltam 20 inimigos para você mudar de nível!\n",
            "Faltam 10 inimigos para você mudar de nível!\n",
            "\n",
            "Você atingiu o próximo nível!\n"
          ]
        }
      ]
    }
  ]
}